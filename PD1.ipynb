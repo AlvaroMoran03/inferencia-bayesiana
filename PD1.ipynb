{
  "nbformat": 4,
  "nbformat_minor": 0,
  "metadata": {
    "colab": {
      "provenance": [],
      "include_colab_link": true
    },
    "kernelspec": {
      "name": "python3",
      "display_name": "Python 3"
    },
    "language_info": {
      "name": "python"
    }
  },
  "cells": [
    {
      "cell_type": "markdown",
      "metadata": {
        "id": "view-in-github",
        "colab_type": "text"
      },
      "source": [
        "<a href=\"https://colab.research.google.com/github/AlvaroMoran03/inferencia-bayesiana/blob/main/PD1.ipynb\" target=\"_parent\"><img src=\"https://colab.research.google.com/assets/colab-badge.svg\" alt=\"Open In Colab\"/></a>"
      ]
    },
    {
      "cell_type": "markdown",
      "source": [
        "# Líbrerias frecuentes"
      ],
      "metadata": {
        "id": "M_e-LgrQ6oN_"
      }
    },
    {
      "cell_type": "markdown",
      "source": [
        "\n",
        "* [NumPy](http://www.numpy.org/): módulo básico necesario para gran parte del trabajo numérico, permite trabajar con matrices numéricas (vectores o matrices)\n",
        "* [Scipy](https://scipy.org/scipylib/index.html): métodos numéricos y herramientas adicionales para complementar NumPy, como rutinas para la integración numérica y optimización\n",
        "* [Matplotlib](https://matplotlib.org/): una libreria de trazado 2D de Python que implementa una variedad de formatos impresos y entornos interactivos en todas las plataformas\n",
        "* [Pandas](http://pandas.pydata.org/): proporciona estructuras de datos de alto rendimiento y herramientas de análisis de datos fáciles de utilizar."
      ],
      "metadata": {
        "id": "1U1J2Ohm6vmj"
      }
    },
    {
      "cell_type": "code",
      "source": [
        "import numpy as np  # Biblioteca para álgebra matricial y operaciones numéricas\n",
        "from math import exp  # Función exponencial (e^x)\n",
        "import matplotlib.pyplot as plt  # Biblioteca para generar gráficos\n",
        "from scipy.stats import multivariate_t, invgamma  # Distribuciones estadísticas: t multivariada e inversa gamma\n",
        "from scipy.optimize import minimize  # Herramientas para optimización matemática\n",
        "import random  # Biblioteca estándar para simulación de números aleatorios\n",
        "import pandas as pd  # Biblioteca para manipulación y análisis de datos (estructuras como DataFrames)\n",
        "import time  # Herramientas para medir el tiempo de ejecución y manejar fechas/horas\n",
        "import sys  # Módulo para interactuar con el sistema operativo y el intérprete de Python (argumentos, rutas, etc.)\n",
        "import os   # Módulo para interactuar con el sistema de archivos y ejecutar comandos del sistema operativo\n",
        "from IPython.display import display, HTML  # Mostrar contenido interactivo o en formato HTML en Jupyter Notebook\n",
        "from math import pi  # Valor de π (pi) y otras funciones matemáticas básicas\n",
        "import scipy.stats as ss  # Acceso general a distribuciones y herramientas estadísticas\n",
        "import pandas_datareader as web  # Acceso a datos financieros y económicos desde servicios web\n",
        "import datetime  # Trabajar con fechas y tiempos"
      ],
      "metadata": {
        "id": "jACuGCGdmfMX"
      },
      "execution_count": null,
      "outputs": []
    },
    {
      "cell_type": "markdown",
      "source": [
        "# Objetos en Python"
      ],
      "metadata": {
        "id": "b-VHzxWejXkl"
      }
    },
    {
      "cell_type": "markdown",
      "source": [
        "### Boolean\n",
        "Una declaración lógica verdadera/falsa"
      ],
      "metadata": {
        "id": "vrHEj9X3kc6z"
      }
    },
    {
      "cell_type": "code",
      "source": [
        "a = 2>3\n",
        "b = 5==10\n",
        "c = 2<=4\n",
        "d = \"aa\"==\"aa\"\n",
        "print(a)\n",
        "print(b)\n",
        "print(c)\n",
        "print(d)"
      ],
      "metadata": {
        "colab": {
          "base_uri": "https://localhost:8080/"
        },
        "id": "XJuIsZvxki6j",
        "outputId": "2b1ae7fd-0e5c-4794-cb84-4afeb70994b5"
      },
      "execution_count": null,
      "outputs": [
        {
          "output_type": "stream",
          "name": "stdout",
          "text": [
            "False\n",
            "False\n",
            "True\n",
            "True\n"
          ]
        }
      ]
    },
    {
      "cell_type": "markdown",
      "source": [
        "Python puede identificar el tipo de las variables 'a', 'b', 'c' y 'd' de la siguiente manera"
      ],
      "metadata": {
        "id": "NVLn8L0qkiOL"
      }
    },
    {
      "cell_type": "code",
      "source": [
        "type(a)"
      ],
      "metadata": {
        "colab": {
          "base_uri": "https://localhost:8080/"
        },
        "id": "i7ojz2zykuGF",
        "outputId": "73207b57-ad4e-48bc-d351-39fcbc3ae011"
      },
      "execution_count": null,
      "outputs": [
        {
          "output_type": "execute_result",
          "data": {
            "text/plain": [
              "bool"
            ]
          },
          "metadata": {},
          "execution_count": 4
        }
      ]
    },
    {
      "cell_type": "markdown",
      "metadata": {
        "id": "9fQWABgekWt4"
      },
      "source": [
        "### Integer and float\n",
        "Los números pueden ser enteros (sin decimales) o flotantes (decimales de doble precisión)."
      ]
    },
    {
      "cell_type": "code",
      "execution_count": null,
      "metadata": {
        "id": "DIoutMjakWt5",
        "outputId": "1bd801b0-1d9a-4470-ad94-3bcdb58c728c",
        "colab": {
          "base_uri": "https://localhost:8080/"
        }
      },
      "outputs": [
        {
          "output_type": "stream",
          "name": "stdout",
          "text": [
            "a=1 and b=2\n",
            "Variable a is of type  <class 'int'>\n",
            "Is 'a' the same type as 'b'? True\n"
          ]
        }
      ],
      "source": [
        "a = 1\n",
        "b = 2\n",
        "print(\"a=%d and b=%d\" %(a,b))\n",
        "print(\"Variable a is of type \",type(a))\n",
        "print(\"Is 'a' the same type as 'b'?\", type(a)==type(b))\n"
      ]
    },
    {
      "cell_type": "code",
      "execution_count": null,
      "metadata": {
        "id": "BlpAZPzxkWt5",
        "outputId": "db214718-6fd0-49cc-a408-c3f1e1b39542",
        "colab": {
          "base_uri": "https://localhost:8080/"
        }
      },
      "outputs": [
        {
          "output_type": "stream",
          "name": "stdout",
          "text": [
            "Is 'a' the same type as 'b'? False\n"
          ]
        }
      ],
      "source": [
        "a = 3.0\n",
        "b = 3\n",
        "c = \"hola\"\n",
        "print(\"Is 'a' the same type as 'b'?\", type(a)==type(b))\n"
      ]
    },
    {
      "cell_type": "markdown",
      "metadata": {
        "id": "Wh111-wqkWt6"
      },
      "source": [
        "### Strings\n",
        "Un String es una secuencia de caracteres."
      ]
    },
    {
      "cell_type": "code",
      "execution_count": null,
      "metadata": {
        "id": "WsNWfRY7kWt6",
        "outputId": "8d9915cd-d2ae-4f8b-b4bc-65a3a94ba92f",
        "colab": {
          "base_uri": "https://localhost:8080/"
        }
      },
      "outputs": [
        {
          "output_type": "stream",
          "name": "stdout",
          "text": [
            "Variable a is of type  <class 'str'>\n"
          ]
        }
      ],
      "source": [
        "a = \"Python\"\n",
        "print(\"Variable a is of type \",type(a))\n"
      ]
    },
    {
      "cell_type": "code",
      "execution_count": null,
      "metadata": {
        "id": "KWzbf49JkWt7",
        "outputId": "b1930a73-d720-468c-f276-1f06fa9de817",
        "colab": {
          "base_uri": "https://localhost:8080/"
        }
      },
      "outputs": [
        {
          "output_type": "stream",
          "name": "stdout",
          "text": [
            "Is 'a' the same type as 'b'? True\n"
          ]
        }
      ],
      "source": [
        "a = \"Python is awesome\"\n",
        "b = \"1/3\"\n",
        "\n",
        "print(\"Is 'a' the same type as 'b'?\", type(a)==type(b))\n"
      ]
    },
    {
      "cell_type": "markdown",
      "metadata": {
        "id": "5M2eMQKokWt7"
      },
      "source": [
        "### List\n",
        "Una secuencia mutable de objetos."
      ]
    },
    {
      "cell_type": "code",
      "execution_count": null,
      "metadata": {
        "id": "RJLbIK4nkWt7",
        "outputId": "2307aa30-b3c1-4954-903e-01a7dc968757",
        "colab": {
          "base_uri": "https://localhost:8080/"
        }
      },
      "outputs": [
        {
          "output_type": "stream",
          "name": "stdout",
          "text": [
            "[[1, 2, 3], [4, 5], 'hola']\n"
          ]
        }
      ],
      "source": [
        "a = [[1,2,3],[4,5],\"hola\"]\n",
        "print(a)"
      ]
    },
    {
      "cell_type": "code",
      "execution_count": null,
      "metadata": {
        "id": "I6b9V2MZkWt8",
        "outputId": "84745f97-7785-449e-fefc-c16318c4abb0",
        "colab": {
          "base_uri": "https://localhost:8080/"
        }
      },
      "outputs": [
        {
          "output_type": "stream",
          "name": "stdout",
          "text": [
            "a =  [1, 2, 3]\n",
            "b =  [3, 2, 1]\n",
            "The order matters? Yes, because a==b: False\n",
            "Variable a is of type  <class 'list'>\n",
            "Is 'a' the same type as 'b'? True\n"
          ]
        }
      ],
      "source": [
        "a = [1,2,3]\n",
        "b = [3,2,1]\n",
        "print(\"a = \",a)\n",
        "print(\"b = \",b)\n",
        "print(\"The order matters? Yes, because a==b:\",a==b)\n",
        "print(\"Variable a is of type \",type(a))\n",
        "print(\"Is 'a' the same type as 'b'?\", type(a)==type(b))\n"
      ]
    },
    {
      "cell_type": "markdown",
      "metadata": {
        "id": "iZSTAjq2kWt8"
      },
      "source": [
        "Una lista es mutable, porque\n",
        "\n",
        "1. Los elementos de una lista se pueden actualizar"
      ]
    },
    {
      "cell_type": "code",
      "execution_count": null,
      "metadata": {
        "id": "gf4wc1nKkWt8",
        "outputId": "9736748e-6a28-4254-a261-b05e661e8257",
        "colab": {
          "base_uri": "https://localhost:8080/"
        }
      },
      "outputs": [
        {
          "output_type": "stream",
          "name": "stdout",
          "text": [
            "['string?', 'Yes', 1, 0.6666666666666666]\n",
            "[1.2599210498948732, 'Yes', 1, 0.6666666666666666]\n"
          ]
        }
      ],
      "source": [
        "b = [\"string?\",\"Yes\",1,2/3]\n",
        "print(b)\n",
        "b[0] = 2**(1/3)\n",
        "print(b)"
      ]
    },
    {
      "cell_type": "markdown",
      "metadata": {
        "id": "DDnVw2UFkWt9"
      },
      "source": [
        "2. Los elementos de una lista pueden ser añadidos, removidos y ordenados"
      ]
    },
    {
      "cell_type": "code",
      "execution_count": null,
      "metadata": {
        "id": "e6AYDYYCkWt9",
        "outputId": "59b6b2b5-826c-46a1-ecc3-fd57357d28ff",
        "colab": {
          "base_uri": "https://localhost:8080/"
        }
      },
      "outputs": [
        {
          "output_type": "stream",
          "name": "stdout",
          "text": [
            "[4, 1, 1.4142135623730951, 0.3333333333333333]\n",
            "[4, 1, 1.4142135623730951, 0.3333333333333333, 3]\n",
            "[4, 1.4142135623730951, 0.3333333333333333, 3]\n",
            "[0.3333333333333333, 1.4142135623730951, 3, 4]\n",
            "[4, 3, 1.4142135623730951, 0.3333333333333333]\n"
          ]
        }
      ],
      "source": [
        "a = [4, 1, 2**(1/2), 1/3]\n",
        "print(a)\n",
        "a.append(3)\n",
        "print(a)\n",
        "a.remove(1)\n",
        "print(a)\n",
        "a.sort()\n",
        "print(a)\n",
        "a.sort(reverse=True)\n",
        "print(a)\n"
      ]
    },
    {
      "cell_type": "markdown",
      "metadata": {
        "id": "yWeMS0vhkWt-"
      },
      "source": [
        "### Tupla\n",
        "Una secuencia inmutable de objetos."
      ]
    },
    {
      "cell_type": "code",
      "execution_count": null,
      "metadata": {
        "id": "hGYLRQ2QkWt-",
        "outputId": "6b8e7fde-aeb8-4fa7-e1cc-9845b0fb7d8c",
        "colab": {
          "base_uri": "https://localhost:8080/"
        }
      },
      "outputs": [
        {
          "output_type": "stream",
          "name": "stdout",
          "text": [
            "Is 'a' the same type as 'b'? False\n"
          ]
        }
      ],
      "source": [
        "a = (1,2,3,3)\n",
        "b = [1,2,3,3]\n",
        "print(\"Is 'a' the same type as 'b'?\", type(a)==type(b))\n"
      ]
    },
    {
      "cell_type": "markdown",
      "metadata": {
        "id": "Bl9v9H6EkWt-"
      },
      "source": [
        "Podemos llamar a los elementos de un tuple"
      ]
    },
    {
      "cell_type": "code",
      "execution_count": null,
      "metadata": {
        "id": "rnrTHQvAkWt_",
        "outputId": "f8ff7392-a8a5-49f8-a5c0-4a96e0ced0aa",
        "colab": {
          "base_uri": "https://localhost:8080/"
        }
      },
      "outputs": [
        {
          "output_type": "stream",
          "name": "stdout",
          "text": [
            "1\n"
          ]
        }
      ],
      "source": [
        "a = (1,2,3,3)\n",
        "\n",
        "print(a[0])"
      ]
    },
    {
      "cell_type": "markdown",
      "metadata": {
        "id": "Gqk0h9eekWt_"
      },
      "source": [
        "\n",
        "\n",
        "Pero como las tuplas son inmutables, sus elementos no pueden ser modificados, agregados, removidos ni ordenados."
      ]
    },
    {
      "cell_type": "code",
      "execution_count": null,
      "metadata": {
        "id": "WWqhG_37kWt_"
      },
      "outputs": [],
      "source": [
        "#a[0] = 2"
      ]
    },
    {
      "cell_type": "markdown",
      "metadata": {
        "id": "eTgob17ZkWuA"
      },
      "source": [
        "Las listas se pueden convertir en tuplas y las tuplas en listas"
      ]
    },
    {
      "cell_type": "code",
      "execution_count": null,
      "metadata": {
        "id": "tCxHLDFikWuB",
        "outputId": "5e0c0a5b-8a4e-488f-e1de-12dda0bf5e59",
        "colab": {
          "base_uri": "https://localhost:8080/"
        }
      },
      "outputs": [
        {
          "output_type": "stream",
          "name": "stdout",
          "text": [
            "a =  (1, 'a', 2, 'a', 1)\n",
            "b =  [1, 'a', 2, 'a', 1]\n",
            "c =  (1, 'a', 2, 'a', 1)\n"
          ]
        }
      ],
      "source": [
        "a = (1,'a',2,'a',1)\n",
        "b  = list(a)\n",
        "c  = tuple(b)\n",
        "print(\"a = \",a)\n",
        "print(\"b = \",b)\n",
        "print(\"c = \",c)\n"
      ]
    },
    {
      "cell_type": "markdown",
      "metadata": {
        "id": "rzLCWOFnkWuB"
      },
      "source": [
        "### Set\n",
        "Una secuencia ordenada mutable que no tiene elementos repetidos."
      ]
    },
    {
      "cell_type": "code",
      "execution_count": null,
      "metadata": {
        "id": "plXlekqokWuB",
        "outputId": "a6244d1d-41db-4830-94f6-d3ea1f9d588b",
        "colab": {
          "base_uri": "https://localhost:8080/"
        }
      },
      "outputs": [
        {
          "output_type": "stream",
          "name": "stdout",
          "text": [
            "a =  {1, 2, 3, 5}\n",
            "Variable a is of type  <class 'set'>\n"
          ]
        }
      ],
      "source": [
        "a = {2,1,3,3,5,1}\n",
        "print(\"a = \",a)\n",
        "print(\"Variable a is of type \",type(a))\n"
      ]
    },
    {
      "cell_type": "markdown",
      "metadata": {
        "id": "cFQx4_-zkWuB"
      },
      "source": [
        "Las listas y las tuplas se pueden convertir en conjuntos (y viceversa)."
      ]
    },
    {
      "cell_type": "code",
      "execution_count": null,
      "metadata": {
        "id": "rlCy1zdukWuC",
        "outputId": "9ce78ccc-f4c7-487b-ccaa-3c0e7afafe23",
        "colab": {
          "base_uri": "https://localhost:8080/"
        }
      },
      "outputs": [
        {
          "output_type": "stream",
          "name": "stdout",
          "text": [
            "a =  [2, 1, 3, 3, 5, 1]\n",
            "b =  (2, 1, 3, 3, 5, 1)\n",
            "c =  {1, 2, 3, 5}\n"
          ]
        }
      ],
      "source": [
        "a = [2,1,3,3,5,1]\n",
        "b = tuple(a)\n",
        "c = set(b)\n",
        "\n",
        "print(\"a = \",a)\n",
        "print(\"b = \",b)\n",
        "print(\"c = \",c)\n"
      ]
    },
    {
      "cell_type": "markdown",
      "metadata": {
        "id": "XDN2R2txkWuD"
      },
      "source": [
        "### Dictionary\n",
        "Mapeo asociativo mutable\n",
        "1. Identificador único *key*\n",
        "2. Creado con {}\n",
        "3. Cada campo tiene el formato \"key: values\""
      ]
    },
    {
      "cell_type": "code",
      "execution_count": null,
      "metadata": {
        "id": "sV276ZLKkWuE",
        "outputId": "37e9f94e-98db-4781-c0d2-a9986800b343",
        "colab": {
          "base_uri": "https://localhost:8080/"
        }
      },
      "outputs": [
        {
          "output_type": "stream",
          "name": "stdout",
          "text": [
            "{'University': 'UDEP', 'City': 'Piura', 'Programs': ['Economics', 'others']}\n",
            "<class 'dict'>\n"
          ]
        }
      ],
      "source": [
        "a = {'University': 'UDEP', 'City':'Piura', 'Programs':['Economics','others']}\n",
        "print(a)\n",
        "print(type(a))"
      ]
    },
    {
      "cell_type": "markdown",
      "metadata": {
        "id": "WKbv9VcMkWuE"
      },
      "source": [
        "Mostrar todas las **keys**: *dict.keys()*"
      ]
    },
    {
      "cell_type": "code",
      "execution_count": null,
      "metadata": {
        "id": "7WeTelW9kWuF",
        "outputId": "75aed15e-d741-4a83-cd85-a75623dab262",
        "colab": {
          "base_uri": "https://localhost:8080/"
        }
      },
      "outputs": [
        {
          "output_type": "execute_result",
          "data": {
            "text/plain": [
              "dict_keys(['University', 'City', 'Programs'])"
            ]
          },
          "metadata": {},
          "execution_count": 21
        }
      ],
      "source": [
        "a.keys()"
      ]
    },
    {
      "cell_type": "markdown",
      "metadata": {
        "id": "gdMTc2sEkWuF"
      },
      "source": [
        "Valor de una key: *dic[key]*"
      ]
    },
    {
      "cell_type": "code",
      "execution_count": null,
      "metadata": {
        "id": "lqg8qgafkWuF",
        "outputId": "4767476d-b31b-4bd2-fc4c-8a27b365a023",
        "colab": {
          "base_uri": "https://localhost:8080/"
        }
      },
      "outputs": [
        {
          "output_type": "execute_result",
          "data": {
            "text/plain": [
              "['Economics', 'others']"
            ]
          },
          "metadata": {},
          "execution_count": 22
        }
      ],
      "source": [
        "a['Programs']"
      ]
    },
    {
      "cell_type": "markdown",
      "metadata": {
        "id": "H5XQjC6AkWuF"
      },
      "source": [
        "Actualizar el valor de una key: *dic[key] = newvalue*"
      ]
    },
    {
      "cell_type": "code",
      "execution_count": null,
      "metadata": {
        "id": "9nNrcDFvkWuF",
        "outputId": "70e76675-d822-4a0f-fa0a-3e504e488b42",
        "colab": {
          "base_uri": "https://localhost:8080/"
        }
      },
      "outputs": [
        {
          "output_type": "stream",
          "name": "stdout",
          "text": [
            "{'University': 'UDEP', 'City': 'Piura', 'Programs': ['Economics', 'Computer science', 'Others']}\n"
          ]
        }
      ],
      "source": [
        "a['Programs'] = ['Economics', 'Computer science','Others']\n",
        "print(a)"
      ]
    },
    {
      "cell_type": "markdown",
      "metadata": {
        "id": "kU-mQ1dckWuG"
      },
      "source": [
        "Nueva entrada: *dic[newkey] = 'new key value'*"
      ]
    },
    {
      "cell_type": "code",
      "execution_count": null,
      "metadata": {
        "id": "mrSYYhUQkWuG",
        "outputId": "ba40598c-5d0e-44fa-ec5c-0d6be1e8f3c6",
        "colab": {
          "base_uri": "https://localhost:8080/"
        }
      },
      "outputs": [
        {
          "output_type": "stream",
          "name": "stdout",
          "text": [
            "{'University': 'UDEP', 'City': 'Piura', 'Programs': ['Economics', 'Computer science', 'Others'], 'Country': 'Peru'}\n"
          ]
        }
      ],
      "source": [
        "a['Country'] = 'Peru'\n",
        "print(a)"
      ]
    },
    {
      "cell_type": "markdown",
      "metadata": {
        "id": "b_s9ckrVkWuG"
      },
      "source": [
        "Borrar elemento del dicionario: *del dict[key]*"
      ]
    },
    {
      "cell_type": "code",
      "execution_count": null,
      "metadata": {
        "id": "qYQ21wQjkWuG",
        "outputId": "b44e6594-c78b-4cfa-8530-3c59f54a7221",
        "colab": {
          "base_uri": "https://localhost:8080/"
        }
      },
      "outputs": [
        {
          "output_type": "stream",
          "name": "stdout",
          "text": [
            "{'University': 'UDEP', 'City': 'Piura', 'Programs': ['Economics', 'Computer science', 'Others']}\n"
          ]
        }
      ],
      "source": [
        "del a['Country']\n",
        "print(a)"
      ]
    },
    {
      "cell_type": "markdown",
      "metadata": {
        "id": "aGkrHqsFkWuG"
      },
      "source": [
        "Remover todas las entadas: *dict.clear()*"
      ]
    },
    {
      "cell_type": "code",
      "execution_count": null,
      "metadata": {
        "id": "UdptfAdYkWuG",
        "outputId": "28f40576-5c73-4757-be06-5a2759c8de75",
        "colab": {
          "base_uri": "https://localhost:8080/"
        }
      },
      "outputs": [
        {
          "output_type": "stream",
          "name": "stdout",
          "text": [
            "{}\n"
          ]
        }
      ],
      "source": [
        "a.clear()\n",
        "print(a)"
      ]
    },
    {
      "cell_type": "markdown",
      "source": [
        "#Declaraciones condicionales y bucles"
      ],
      "metadata": {
        "id": "OFRQNF6Klq6R"
      }
    },
    {
      "cell_type": "markdown",
      "source": [
        "## 1. Condicional\n",
        "Se evalúa una secuencia de código si un booleano es verdadero\n",
        "\n",
        "* Declaración ```if ... elif ... else```\n",
        "\n",
        "    Sintaxis\n",
        "    \n",
        "    ```python\n",
        "if condición:\n",
        "    declaraciones(s)\n",
        "elif:              # opcional (abreviatura de 'else if')\n",
        "    declaraciones(s) # opcional\n",
        "else:              # opcional\n",
        "    declaraciones(s) # opcional\n",
        "    ```\n",
        "    \n",
        "    **Nota**: Se requiere *sangrado*\n",
        "    \n",
        "    Sintaxis alternativa: declaraciones cortas de una sola linea\n",
        "    \n",
        "    ```python\n",
        "if condición: declaración\n",
        "    ```"
      ],
      "metadata": {
        "id": "Vvs2zICel56r"
      }
    },
    {
      "cell_type": "markdown",
      "source": [
        "Ejemplo:"
      ],
      "metadata": {
        "id": "HLCqq87I9Ej9"
      }
    },
    {
      "cell_type": "code",
      "source": [
        "a = 5.4\n",
        "EsEntero  = a%int(a)==0\n",
        "EsPar   = a%2==0\n",
        "if EsEntero and EsPar:\n",
        "    print('El numero es entero y par')\n",
        "elif EsEntero and not EsPar:\n",
        "    print('El numero es entero e impar')\n",
        "else:\n",
        "    print('El numero no es entero')"
      ],
      "metadata": {
        "colab": {
          "base_uri": "https://localhost:8080/"
        },
        "id": "6PcH8iTl9EAE",
        "outputId": "86fc2e58-181d-41dc-93fb-43964adf84f5"
      },
      "execution_count": null,
      "outputs": [
        {
          "output_type": "stream",
          "name": "stdout",
          "text": [
            "El numero no es entero\n"
          ]
        }
      ]
    },
    {
      "cell_type": "markdown",
      "metadata": {
        "id": "_29nwlzNlm4T"
      },
      "source": [
        "## 2. Bucles\n",
        "\n",
        "1. Bucles definidos:\n",
        "\n",
        "    Los límites son conocidos antes de inicializar el bucle\n",
        "    \n",
        "    Declaración: ```for loop```\n",
        "    \n",
        "    Sintaxis\n",
        "    \n",
        "```python\n",
        "for x in lista_de_x:\n",
        "    statements(x)\n",
        "```"
      ]
    },
    {
      "cell_type": "code",
      "execution_count": null,
      "metadata": {
        "id": "NKG1qQ7Tlm4T",
        "colab": {
          "base_uri": "https://localhost:8080/"
        },
        "outputId": "9baa7b89-9a28-4779-8c7d-8b068f40bfde"
      },
      "outputs": [
        {
          "output_type": "stream",
          "name": "stdout",
          "text": [
            "0\n",
            "1\n",
            "2\n",
            "3\n",
            "4\n"
          ]
        }
      ],
      "source": [
        "s = 5\n",
        "for x in range(s): #range se utiliza para generar secuencia de números enteros\n",
        "    print(x)"
      ]
    },
    {
      "cell_type": "markdown",
      "metadata": {
        "id": "xVz56eC3lm4T"
      },
      "source": [
        "2. Bucles indefinidos:\n",
        "    \n",
        "    Los limites no son conocidos antes de inicializar el bucle.\n",
        "    \n",
        "    * Bucle truncado ```for```\n",
        "    \n",
        "        Syntax:\n",
        "        \n",
        "        ```python\n",
        "for x in lista_de_x:\n",
        "    statement(x)\n",
        "    if condition:\n",
        "        statement(x)\n",
        "        break\n",
        "        ```\n",
        "        "
      ]
    },
    {
      "cell_type": "code",
      "execution_count": null,
      "metadata": {
        "id": "7QW-uS8ilm4T",
        "colab": {
          "base_uri": "https://localhost:8080/"
        },
        "outputId": "7b6e3cfb-07bf-4dbd-bf3e-76accfdbe501"
      },
      "outputs": [
        {
          "output_type": "stream",
          "name": "stdout",
          "text": [
            "0\n",
            "1\n",
            "2\n",
            "3\n",
            "4\n",
            "5\n"
          ]
        }
      ],
      "source": [
        "for order in range(10):\n",
        "\n",
        "    if order>5:\n",
        "\n",
        "        break\n",
        "\n",
        "    print(order)"
      ]
    },
    {
      "cell_type": "markdown",
      "metadata": {
        "id": "QRjC9otNlm4T"
      },
      "source": [
        "* Bucle ```While```:\n",
        "    \n",
        "    Syntax\n",
        "    \n",
        "    ```python\n",
        "while condition:\n",
        "    statements\n",
        "    ```\n",
        "    \n",
        "    Ejemplo: el mismo ejercicio de arriba"
      ]
    },
    {
      "cell_type": "code",
      "execution_count": null,
      "metadata": {
        "id": "tdkHf-Y6lm4T",
        "outputId": "728b484f-10b4-41f2-bfc2-0fcb132339bc",
        "colab": {
          "base_uri": "https://localhost:8080/"
        }
      },
      "outputs": [
        {
          "output_type": "stream",
          "name": "stdout",
          "text": [
            "0\n",
            "1\n",
            "2\n",
            "3\n",
            "4\n",
            "5\n"
          ]
        }
      ],
      "source": [
        "cond   = True\n",
        "\n",
        "order = 0\n",
        "\n",
        "while cond:\n",
        "\n",
        "    cond = order<5\n",
        "\n",
        "    print(order)\n",
        "    order = order + 1"
      ]
    },
    {
      "cell_type": "markdown",
      "source": [
        "#Distribuciones de probabilidad continuas"
      ],
      "metadata": {
        "id": "IUxSvVXFTz6u"
      }
    },
    {
      "cell_type": "markdown",
      "source": [
        "### Distribución uniforme continua\n"
      ],
      "metadata": {
        "id": "FRX69qMRUs3D"
      }
    },
    {
      "cell_type": "markdown",
      "source": [
        "\n",
        "La **función de densidad de probabilidad (PDF)** de una distribución uniforme continua $ U(a, b)$ está definida como:\n",
        "\n",
        "$$\n",
        "f(x) =\n",
        "\\begin{cases}\n",
        "\\frac{1}{b-a}, & \\text{si } x \\in [a, b] \\\\\\\\\n",
        "0, & \\text{en otro caso.}\n",
        "\\end{cases}\n",
        "$$\n",
        "\n",
        "Donde:\n",
        "\n",
        "- $a$: es el límite inferior del intervalo.\n",
        "- $b$: es el límite superior del intervalo.\n",
        "- $x$: es el valor dentro del intervalo \\([a, b]\\).\n",
        "\n",
        "**Propiedades:**\n",
        "\n",
        "- Valor esperado:\n",
        "${E}[X] = \\frac{a + b}{2}$\n",
        "\n",
        "- Varianza:\n",
        "${Var}(X) = \\frac{(b-a)^2}{12}$"
      ],
      "metadata": {
        "id": "Ky3429L2WbAk"
      }
    },
    {
      "cell_type": "code",
      "source": [
        "# Parámetros de la distribución uniforme\n",
        "a = 0  # Límite inferior\n",
        "b = 1  # Límite superior\n",
        "n_samples = 100000  # Número de muestras\n",
        "\n",
        "# Generar muestras de una distribución uniforme continua U(0, 1)\n",
        "samples = np.random.uniform(a, b, n_samples)\n",
        "\n",
        "# Graficar el histograma de las muestras generadas\n",
        "plt.hist(samples, bins=50, density=True, alpha=0.7, color='blue', edgecolor='black')\n",
        "\n",
        "# Agregar detalles al gráfico\n",
        "plt.title(\"Distribución Uniforme Continua U(0, 1)\")\n",
        "plt.xlabel(\"Valores\")\n",
        "plt.ylabel(\"Densidad\")\n",
        "plt.grid(alpha=0.3)\n",
        "\n",
        "# Mostrar el gráfico\n",
        "plt.show()"
      ],
      "metadata": {
        "colab": {
          "base_uri": "https://localhost:8080/",
          "height": 472
        },
        "id": "zdZAH06snj88",
        "outputId": "adf75119-f038-4da8-838f-679f7a9e00fc"
      },
      "execution_count": null,
      "outputs": [
        {
          "output_type": "display_data",
          "data": {
            "text/plain": [
              "<Figure size 640x480 with 1 Axes>"
            ],
            "image/png": "[encoded data removed]"
          },
          "metadata": {}
        }
      ]
    },
    {
      "cell_type": "markdown",
      "source": [
        "### Distribución normal"
      ],
      "metadata": {
        "id": "l5Q4quQGX4Ok"
      }
    },
    {
      "cell_type": "markdown",
      "source": [
        "La **función de densidad de probabilidad (PDF)** de una distribución normal $ \\mathcal{N}(\\mu, \\sigma^2) $ está definida como:\n",
        "\n",
        "$$\n",
        "f(x) = \\frac{1}{\\sqrt{2\\pi \\sigma^2}} \\exp\\left(-\\frac{(x-\\mu)^2}{2\\sigma^2}\\right)\n",
        "$$\n",
        "\n",
        "Donde:\n",
        "\n",
        "- $ \\mu $: es la media.\n",
        "- $ \\sigma^2 $: es la varianza.\n",
        "\n",
        "**Propiedades:**\n",
        "\n",
        "- Valor esperado:\n",
        "$E[X] = \\mu$\n",
        "\n",
        "- Varianza:\n",
        "$Var(X) = \\sigma^2$\n",
        "\n",
        "La distribución normal más importante es el caso especial cuando $ \\mu = 0 $ y $ \\sigma^2 = 1 $.\n",
        "\n",
        "A esta se le llama la **distribución normal estándar**, denotada por $ Z $, es decir:\n",
        "\n",
        "$$\n",
        "Z \\sim \\mathcal{N}(0, 1)\n",
        "$$"
      ],
      "metadata": {
        "id": "GgBmX_yiX-mN"
      }
    },
    {
      "cell_type": "code",
      "source": [
        "# Parámetros de la distribución normal\n",
        "mu = 0  # Media\n",
        "sigma = 1  # Desviación estándar\n",
        "n_samples = 100000  # Número de muestras\n",
        "\n",
        "# Generar muestras de una distribución normal N(mu, sigma)\n",
        "samples = np.random.normal(mu, sigma, n_samples)\n",
        "\n",
        "# Graficar el histograma de las muestras generadas\n",
        "plt.hist(samples, bins=50, density=True, alpha=0.7, color='blue', edgecolor='black')\n",
        "\n",
        "# Agregar detalles al gráfico\n",
        "plt.title(\"Distribución Normal N(0, 1)\")\n",
        "plt.xlabel(\"Valores\")\n",
        "plt.ylabel(\"Densidad\")\n",
        "plt.grid(alpha=0.3)\n",
        "\n",
        "# Mostrar el gráfico\n",
        "plt.show()"
      ],
      "metadata": {
        "colab": {
          "base_uri": "https://localhost:8080/",
          "height": 472
        },
        "id": "Ix8G3Wp8oheh",
        "outputId": "15d3688c-e40d-4888-a107-a58f32005346"
      },
      "execution_count": null,
      "outputs": [
        {
          "output_type": "display_data",
          "data": {
            "text/plain": [
              "<Figure size 640x480 with 1 Axes>"
            ],
            "image/png": "[encoded data removed]"
          },
          "metadata": {}
        }
      ]
    },
    {
      "cell_type": "markdown",
      "source": [
        "### Distribución gamma"
      ],
      "metadata": {
        "id": "YIQdn0EmaWFi"
      }
    },
    {
      "cell_type": "markdown",
      "source": [
        "La **función de densidad de probabilidad (PDF)** de una distribución Gamma $ G(\\alpha, \\beta) $ está definida como:\n",
        "\n",
        "$$\n",
        "f(x) = \\frac{\\beta^\\alpha}{\\Gamma(\\alpha)} x^{\\alpha-1} \\exp(-\\beta x), \\quad x > 0\n",
        "$$\n",
        "\n",
        "Donde:\n",
        "\n",
        "- $ \\alpha $: es el parámetro de forma.\n",
        "- $ \\beta $: es el parámetro inverso de escala.\n",
        "- $ \\Gamma(\\alpha) $: es la función Gamma definida como $ \\Gamma(\\alpha) = \\int_0^\\infty t^{\\alpha-1} e^{-t} \\, dt $.\n",
        "\n",
        "**Propiedades:**\n",
        "\n",
        "- Valor esperado:\n",
        "$E[X] = \\frac{\\alpha}{\\beta}$\n",
        "\n",
        "- Varianza:\n",
        "$Var(X) = \\frac{\\alpha}{\\beta^2}$"
      ],
      "metadata": {
        "id": "Z9Be7cvjZQPU"
      }
    },
    {
      "cell_type": "code",
      "source": [
        "# Parámetros de la distribución Gamma\n",
        "alpha = 2  # Parámetro de forma (α)\n",
        "rate = 0.5  # Parámetro inverso de escala (β)\n",
        "scale = 1 / rate  # Convertimos el parámetro a escala\n",
        "n_samples = 100000  # Número de muestras\n",
        "\n",
        "# Generar muestras de una distribución Gamma\n",
        "samples = np.random.gamma(alpha, scale, n_samples)\n",
        "\n",
        "# Graficar el histograma de las muestras generadas\n",
        "plt.hist(samples, bins=50, density=True, alpha=0.7, color='blue', edgecolor='black')\n",
        "\n",
        "# Agregar detalles al gráfico\n",
        "plt.title(\"Distribución Gamma (α=2, β=0.5)\")\n",
        "plt.xlabel(\"Valores\")\n",
        "plt.ylabel(\"Densidad\")\n",
        "plt.grid(alpha=0.3)\n",
        "\n",
        "# Mostrar el gráfico\n",
        "plt.show()"
      ],
      "metadata": {
        "colab": {
          "base_uri": "https://localhost:8080/",
          "height": 472
        },
        "id": "ykhV5Jtgo9v8",
        "outputId": "8933159f-6adf-4f4a-9220-5d41651f364f"
      },
      "execution_count": null,
      "outputs": [
        {
          "output_type": "display_data",
          "data": {
            "text/plain": [
              "<Figure size 640x480 with 1 Axes>"
            ],
            "image/png": "[encoded data removed]"
          },
          "metadata": {}
        }
      ]
    },
    {
      "cell_type": "markdown",
      "source": [
        "### Distribución Gamma Inversa"
      ],
      "metadata": {
        "id": "io_0UeHfaaF6"
      }
    },
    {
      "cell_type": "markdown",
      "source": [
        "La **función de densidad de probabilidad (PDF)** de una distribución Gamma Inversa $ \\Gamma^{-1}(\\alpha, \\beta) $ está definida como:\n",
        "\n",
        "$$\n",
        "f(x) = \\frac{\\beta^\\alpha}{\\Gamma(\\alpha)} x^{-\\alpha-1} \\exp\\left(-\\frac{\\beta}{x}\\right), \\quad x > 0\n",
        "$$\n",
        "\n",
        "Donde:\n",
        "\n",
        "- $ \\alpha $: es el parámetro de forma.\n",
        "- $ \\beta $: es el parámetro de escala.\n",
        "- $ \\Gamma(\\alpha) $: es la función Gamma.\n",
        "\n",
        "**Propiedades:**\n",
        "\n",
        "- Valor esperado (si $ \\alpha > 1 $):\n",
        "$E[X] = \\frac{\\beta}{\\alpha - 1}$\n",
        "\n",
        "- Varianza (si $ \\alpha > 2 $):\n",
        "$Var(X) = \\frac{\\beta^2}{(\\alpha - 1)^2 (\\alpha - 2)}$"
      ],
      "metadata": {
        "id": "TGu2ucSxajJT"
      }
    },
    {
      "cell_type": "code",
      "source": [
        "# Parámetros de la distribución Gamma inversa\n",
        "alpha = 4  # Parámetro de forma (α)\n",
        "beta = 0.5  # Parámetro de escala (β)\n",
        "n_samples = 1000000  # Número de muestras\n",
        "\n",
        "# Generar muestras de una distribución Gamma inversa\n",
        "# El método .rvs genera valores aleatorios de la distribución Gamma inversa\n",
        "# a=alpha: Parámetro de forma (α)\n",
        "# scale=beta: Parámetro de escala (β)\n",
        "# size=n_samples: Cantidad de valores generados\n",
        "samples = invgamma.rvs(a=alpha, scale=beta, size=n_samples)\n",
        "\n",
        "# Graficar el histograma de las muestras generadas\n",
        "plt.hist(samples, bins=50, density=True, alpha=0.7, color='blue', edgecolor='black')\n",
        "\n",
        "# Agregar detalles al gráfico\n",
        "plt.title(\"Distribución Gamma Inversa (α=2, β=0.5)\")\n",
        "plt.xlabel(\"Valores\")\n",
        "plt.ylabel(\"Densidad\")\n",
        "plt.grid(alpha=0.3)\n",
        "\n",
        "# Mostrar el gráfico\n",
        "plt.show()"
      ],
      "metadata": {
        "colab": {
          "base_uri": "https://localhost:8080/",
          "height": 472
        },
        "id": "SFIXKdEypgWu",
        "outputId": "58c556c6-3761-40bc-b712-f23c20f45e56"
      },
      "execution_count": null,
      "outputs": [
        {
          "output_type": "display_data",
          "data": {
            "text/plain": [
              "<Figure size 640x480 with 1 Axes>"
            ],
            "image/png": "[encoded data removed]"
          },
          "metadata": {}
        }
      ]
    },
    {
      "cell_type": "markdown",
      "source": [
        "# Distribución Chi Cuadrado"
      ],
      "metadata": {
        "id": "WZtQblQ09bXO"
      }
    },
    {
      "cell_type": "markdown",
      "source": [
        "\n",
        "La **función de densidad de probabilidad (PDF)** de una distribución Chi Cuadrado con \\( k \\) grados de libertad está definida como:\n",
        "\n",
        "$$\n",
        "f(x) = \\frac{x^{\\frac{k}{2} - 1} e^{-\\frac{x}{2}}}{2^{\\frac{k}{2}} \\Gamma\\left(\\frac{k}{2}\\right)}, \\quad x > 0\n",
        "$$\n",
        "\n",
        "Donde:\n",
        "\n",
        "- $ x $: es el valor en el soporte de la distribución ($ x > 0 $).\n",
        "- $ k $: es el número de grados de libertad.\n",
        "- $ \\Gamma(\\cdot) $: es la función Gamma.\n",
        "\n",
        "**Propiedades:**\n",
        "\n",
        "- Valor esperado:\n",
        "$$\n",
        "E[X] = k\n",
        "$$\n",
        "\n",
        "- Varianza:\n",
        "$$\n",
        "Var(X) = 2k\n",
        "$$"
      ],
      "metadata": {
        "id": "RE7YHMx39izH"
      }
    },
    {
      "cell_type": "code",
      "source": [
        "# Parámetros de la simulación\n",
        "dof = 10  # Grados de libertad\n",
        "nsample = 100000  # Número de simulaciones\n",
        "\n",
        "# Generar simulaciones de una distribución Chi-cuadrado\n",
        "samples = np.random.chisquare(dof, size=nsample)\n",
        "\n",
        "# Graficar el histograma de las simulaciones\n",
        "plt.hist(samples, bins=50, density=True, alpha=0.7, color='blue', edgecolor='black')\n",
        "\n",
        "# Agregar detalles al gráfico\n",
        "plt.title(f\"Simulaciones de Distribución Chi-cuadrado ($dof={dof}$)\")\n",
        "plt.xlabel(\"Valores\")\n",
        "plt.ylabel(\"Densidad\")\n",
        "plt.grid(alpha=0.3)\n",
        "\n",
        "# Mostrar el gráfico\n",
        "plt.show()"
      ],
      "metadata": {
        "id": "kd3x-2Ya_qGy",
        "colab": {
          "base_uri": "https://localhost:8080/",
          "height": 475
        },
        "outputId": "3fae470c-9fd4-49f3-de40-710dd5573591"
      },
      "execution_count": null,
      "outputs": [
        {
          "output_type": "display_data",
          "data": {
            "text/plain": [
              "<Figure size 640x480 with 1 Axes>"
            ],
            "image/png": "[encoded data removed]"
          },
          "metadata": {}
        }
      ]
    },
    {
      "cell_type": "markdown",
      "source": [
        "### Distribución Normal Multivariada"
      ],
      "metadata": {
        "id": "sVPP27RVdmqU"
      }
    },
    {
      "cell_type": "markdown",
      "source": [
        "La **función de densidad de probabilidad (PDF)** de una distribución normal multivariada $ \\mathcal{N}(\\boldsymbol{\\mu}, \\boldsymbol{\\Sigma}) $ está definida como:\n",
        "\n",
        "$$\n",
        "f(\\mathbf{x}) = \\frac{1}{(2\\pi)^{d/2} |\\boldsymbol{\\Sigma}|^{1/2}} \\exp\\left(-\\frac{1}{2} (\\mathbf{x} - \\boldsymbol{\\mu})' \\boldsymbol{\\Sigma}^{-1} (\\mathbf{x} - \\boldsymbol{\\mu})\\right)\n",
        "$$\n",
        "\n",
        "Donde:\n",
        "\n",
        "- $ \\mathbf{x} $: es un vector aleatorio de dimensión $ d $.\n",
        "- $ \\boldsymbol{\\mu} $: es el vector de medias (de dimensión $ d $).\n",
        "- $ \\boldsymbol{\\Sigma} $: es la matriz de covarianza (definida positiva y de dimensión $ d \\times d $).\n",
        "- $ |\\boldsymbol{\\Sigma}| $: es el determinante de la matriz de covarianza.\n",
        "\n",
        "**Propiedades:**\n",
        "\n",
        "- Valor esperado:\n",
        "$$\n",
        "E[\\mathbf{x}] = \\boldsymbol{\\mu}\n",
        "$$\n",
        "\n",
        "- Matriz de covarianza:\n",
        "$$\n",
        "Var(\\mathbf{x}) = \\boldsymbol{\\Sigma}\n",
        "$$"
      ],
      "metadata": {
        "id": "vFUZLU4GauAL"
      }
    },
    {
      "cell_type": "code",
      "source": [
        "# Parámetros de la distribución normal multivariada\n",
        "mu = [0, 0]  # Vector de medias (dimensión 2)\n",
        "Omega = [[1, 0.5], [0.5, 1]]  # Matriz de covarianza\n",
        "nsample = 100000  # Número de muestras\n",
        "\n",
        "# Generar muestras de la distribución normal multivariada\n",
        "Xs_normal = np.random.multivariate_normal(mean=mu, cov=Omega, size=nsample)\n",
        "\n",
        "# Graficar el histograma de X1\n",
        "plt.hist(Xs_normal[:, 0], bins=50, density=True, alpha=0.7, color='blue', edgecolor='black')\n",
        "\n",
        "# Agregar detalles al gráfico\n",
        "plt.title(\"Distribución de $X_1$\")\n",
        "plt.xlabel(\"Soporte de $X_1$\")\n",
        "plt.ylabel(\"Densidad marginal\")\n",
        "plt.grid(alpha=0.3)"
      ],
      "metadata": {
        "colab": {
          "base_uri": "https://localhost:8080/",
          "height": 479
        },
        "id": "WxPd1aG6qEY6",
        "outputId": "46e49315-7349-40a9-b777-bd7f0096509f"
      },
      "execution_count": null,
      "outputs": [
        {
          "output_type": "display_data",
          "data": {
            "text/plain": [
              "<Figure size 640x480 with 1 Axes>"
            ],
            "image/png": "[encoded data removed]"
          },
          "metadata": {}
        }
      ]
    },
    {
      "cell_type": "markdown",
      "source": [
        "# Distribución t Multivariada"
      ],
      "metadata": {
        "id": "t05POOw59nXH"
      }
    },
    {
      "cell_type": "markdown",
      "source": [
        "\n",
        "La **función de densidad de probabilidad (PDF)** de una distribución t Multivariada con $ \\nu $ grados de libertad, media $ \\boldsymbol{\\mu} $, y matriz de escala $ \\boldsymbol{\\Sigma} $ está definida como:\n",
        "\n",
        "$$\n",
        "f(\\mathbf{x}) = \\frac{\\Gamma\\left(\\frac{\\nu + d}{2}\\right)}{\\Gamma\\left(\\frac{\\nu}{2}\\right) (\\nu \\pi)^{\\frac{d}{2}} |\\boldsymbol{\\Sigma}|^{\\frac{1}{2}}} \\left( 1 + \\frac{1}{\\nu} (\\mathbf{x} - \\boldsymbol{\\mu})' \\boldsymbol{\\Sigma}^{-1} (\\mathbf{x} - \\boldsymbol{\\mu}) \\right)^{-\\frac{\\nu + d}{2}}\n",
        "$$\n",
        "\n",
        "Donde:\n",
        "\n",
        "- $ \\mathbf{x} $: es un vector aleatorio de dimensión \\( d \\).\n",
        "- $ \\boldsymbol{\\mu} $: es el vector de medias (de dimensión \\( d \\)).\n",
        "- $ \\boldsymbol{\\Sigma} $: es la matriz de escala (definida positiva, de dimensión \\( d \\times d \\)).\n",
        "- $ \\nu $: son los grados de libertad.\n",
        "- $ \\Gamma(\\cdot) $: es la función Gamma.\n",
        "- $ |\\boldsymbol{\\Sigma}| $: es el determinante de la matriz $\\ \\boldsymbol{\\Sigma} $\n",
        "\n",
        "**Propiedades:**\n",
        "\n",
        "- Valor esperado (si $ \\nu > 1 $):\n",
        "$$\n",
        "E[\\mathbf{x}] = \\boldsymbol{\\mu}\n",
        "$$\n",
        "\n",
        "- Matriz de covarianza (si $ \\nu > 2 $):\n",
        "$$\n",
        "Var(\\mathbf{x}) = \\frac{\\nu}{\\nu - 2} \\boldsymbol{\\Sigma}\n",
        "$$\n",
        "\n",
        "**Interpretación:**\n",
        "La distribución t Multivariada es una generalización multivariada de la distribución t de Student."
      ],
      "metadata": {
        "id": "Eo2OLVe79ntI"
      }
    },
    {
      "cell_type": "code",
      "source": [
        "# Parámetros de la distribución t de Student multivariada\n",
        "mu = [0, 0]  # Vector de medias (dimensión 2)\n",
        "Omega = [[1, 0.5], [0.5, 1]]  # Matriz de covarianza\n",
        "df = 5  # Grados de libertad\n",
        "nsample = 100000  # Número de muestras\n",
        "\n",
        "# Generar muestras de la distribución t de Student multivariada\n",
        "Xs_t = multivariate_t.rvs(loc=mu, shape=Omega, df=df, size=nsample, random_state=42)\n",
        "\n",
        "# Graficar el histograma de X1\n",
        "plt.hist(Xs_t[:, 0], bins=50, density=True, alpha=0.7, color='blue', edgecolor='black')\n",
        "\n",
        "# Agregar detalles al gráfico\n",
        "plt.title(\"Distribución de $X_1$\")\n",
        "plt.xlabel(\"Valores de $X_1$\")\n",
        "plt.ylabel(\"Densidad\")\n",
        "plt.grid(alpha=0.3)\n",
        "\n",
        "# Mostrar el gráfico\n",
        "plt.show()"
      ],
      "metadata": {
        "id": "kFuk-1Zm_sQa",
        "colab": {
          "base_uri": "https://localhost:8080/",
          "height": 478
        },
        "outputId": "fe78bed4-2a3b-4d46-e577-183d9a9a8e2a"
      },
      "execution_count": null,
      "outputs": [
        {
          "output_type": "display_data",
          "data": {
            "text/plain": [
              "<Figure size 640x480 with 1 Axes>"
            ],
            "image/png": "[encoded data removed]"
          },
          "metadata": {}
        }
      ]
    },
    {
      "cell_type": "markdown",
      "source": [
        "### Distribución Inversa Wishart"
      ],
      "metadata": {
        "id": "QNMmT1fWdqH-"
      }
    },
    {
      "cell_type": "markdown",
      "source": [
        "Es una distribución de probabilidad definida sobre matrices definidas positivas con valores reales.\n",
        "\n",
        "La **función de densidad de probabilidad (PDF)** de una distribución Inversa Wishart $ \\text{IW}(\\mathbf{\\Psi}, \\nu ) $ está definida como:\n",
        "\n",
        "$$\n",
        "f(\\mathbf{\\Sigma}) = \\frac{|\\mathbf{\\Psi}|^{\\nu/2}}{2^{\\nu p / 2} \\Gamma_p(\\nu/2)} |\\mathbf{\\Sigma}|^{-(\\nu+p+1)/2} \\exp\\left(-\\frac{1}{2} \\text{tr}(\\mathbf{\\Psi} \\mathbf{\\Sigma}^{-1})\\right)\n",
        "$$\n",
        "\n",
        "Donde:\n",
        "\n",
        "- $ \\nu $: es el número de grados de libertad ($ \\nu > p-1 $).\n",
        "- $ \\mathbf{\\Psi} $ y $ \\mathbf{\\Sigma} $: matrices definidas positivas de dimensión $ p \\times p $.\n",
        "- $ \\Gamma_p(\\cdot) $: es la función gamma multivariad.\n",
        "- $ \\text{tr}(\\cdot) $: denota la traza de una matriz.\n",
        "\n",
        "**Propiedades:**\n",
        "\n",
        "- Valor esperado (si $ \\nu > p + 1 $):\n",
        "$$\n",
        "E[\\mathbf{\\Sigma}] = \\frac{\\mathbf{\\Psi}}{\\nu - p - 1}\n",
        "$$"
      ],
      "metadata": {
        "id": "PerMzrUHdr5c"
      }
    },
    {
      "cell_type": "markdown",
      "source": [
        "### Distribución Normal Matricial"
      ],
      "metadata": {
        "id": "IbYO2yh2f-Xb"
      }
    },
    {
      "cell_type": "markdown",
      "source": [
        "La distribución normal matriciales una distribución de probabilidad que generaliza la distribución normal multivariada a variables aleatorias con valores matriciales.\n",
        "\n",
        "La **función de densidad de probabilidad (PDF)** de una distribución normal matricial $\\mathcal{MN}_{n \\times m}(\\mathbf{M}, \\mathbf{U}, \\mathbf{V})$ está definida como:\n",
        "\n",
        "$$\n",
        "f(\\mathbf{X}) = \\frac{\\exp\\left(-\\frac{1}{2} \\text{tr}(\\mathbf{V}^{-1} (\\mathbf{X} - \\mathbf{M})' \\mathbf{U}^{-1} (\\mathbf{X} - \\mathbf{M}))\\right)}{(2\\pi)^{\\frac{nm}{2}} |\\mathbf{U}|^{\\frac{m}{2}} |\\mathbf{V}|^{\\frac{n}{2}}}\n",
        "$$\n",
        "\n",
        "Donde:\n",
        "\n",
        "- $ \\mathbf{X} $: es una matriz aleatoria de dimensiones $ n \\times m $.\n",
        "- $ \\mathbf{M} $: es la matriz de medias de dimensiones $ n \\times m $.\n",
        "- $ \\mathbf{U} $: es la matriz de covarianza de filas (definida positiva, de dimensión $ n \\times n $).\n",
        "- $ \\mathbf{V} $: es la matriz de covarianza de columnas (definida positiva, de dimensión $ m \\times m $).\n",
        "- $ \\text{tr}(\\cdot) $: denota la traza de una matriz.\n",
        "- $ |\\mathbf{U}| $ y $ |\\mathbf{V}| $: son los determinantes de las matrices $ \\mathbf{U} $ y $ \\mathbf{V} $, respectivamente.\n",
        "\n",
        "**Propiedades:**\n",
        "\n",
        "- Valor esperado:\n",
        "$$\n",
        "E[\\mathbf{X}] = \\mathbf{M}\n",
        "$$\n",
        "\n",
        "- Covarianzas:\n",
        "  - Covarianza entre filas:\n",
        "  $ Var(\\mathbf{X}_{i\\cdot}) = \\mathbf{U}, \\, \\forall i = 1, \\dots, n $\n",
        "  - Covarianza entre columnas:\n",
        "  $ Var(\\mathbf{X}_{\\cdot j}) = \\mathbf{V}, \\, \\forall j = 1, \\dots, m $\n",
        "\n",
        "**Interpretación:**  \n",
        "La distribución normal matricial $ \\mathcal{MN}(\\mathbf{M}, \\mathbf{U}, \\mathbf{V}) $ describe una matriz aleatoria $ \\mathbf{X} $, donde las filas tienen una covarianza definida por $ \\mathbf{U} $, y las columnas tienen una covarianza definida por $ \\mathbf{V} $.\n",
        "\n",
        "**Relación con la distribución normal multivariada:**\n",
        "\n",
        "La distribución normal matricial está relacionada con la distribución normal multivariada de la siguiente manera:\n",
        "\n",
        "$$\n",
        "\\mathbf{X} \\sim \\mathcal{MN}_{n \\times p}(\\mathbf{M}, \\mathbf{U}, \\mathbf{V}),\n",
        "$$\n",
        "\n",
        "si y solo si:\n",
        "\n",
        "$$\n",
        "\\mathrm{vec}(\\mathbf{X}) \\sim \\mathcal{N}_{np}(\\mathrm{vec}(\\mathbf{M}), \\mathbf{V} \\otimes \\mathbf{U}),\n",
        "$$\n",
        "\n",
        "donde:\n",
        "\n",
        "- $ \\mathrm{vec}(\\mathbf{X}) $ denota la vectorización de la matriz $ \\mathbf{X} $ (apilando sus columnas en un vector).\n",
        "- $ \\otimes $ representa el producto de Kronecker."
      ],
      "metadata": {
        "id": "BIyTQOfSgEc5"
      }
    },
    {
      "cell_type": "markdown",
      "source": [
        "# Bases de datos"
      ],
      "metadata": {
        "id": "q4M2727b_zy0"
      }
    },
    {
      "cell_type": "markdown",
      "source": [
        "Con pandas_datareader podemos extraer los datos directamente de las bases de datos de la FED"
      ],
      "metadata": {
        "id": "xJ71C2WzaWk7"
      }
    },
    {
      "cell_type": "code",
      "source": [
        "start = datetime.datetime(1965,1,1)\n",
        "end   = datetime.datetime(2004,12,31)\n",
        "EFF  = web.DataReader('DFF', 'fred', start=start, end=end)\n",
        "EFF  = EFF.resample('Q').mean()\n",
        "index = EFF.index\n",
        "RGDP = web.DataReader('GDPC1', 'fred', start=start, end=end)\n",
        "CONS = web.DataReader('PCECC96', 'fred', start=start, end=end)\n",
        "DEF  = web.DataReader('GDPDEF', 'fred', start=start, end=end)\n",
        "RINV = web.DataReader('RINV', 'fred', start=start, end=end)\n",
        "TLP  = web.DataReader('ULQELP01USQ661S', 'fred', start=start, end=end)\n",
        "PRF  = web.DataReader('CP', 'fred', start=start, end=end)\n",
        "M2   = web.DataReader('MABMM201USQ189S', 'fred', start=datetime.datetime(1964,9,1), end=end)\n",
        "DM2  = (M2/M2.shift(1)).dropna()\n",
        "CPI  = web.DataReader('CPALTT01USQ661S', 'fred', start=start, end=end)\n",
        "\n",
        "RGDP.index = EFF.index\n",
        "CONS.index = EFF.index\n",
        "DEF.index = EFF.index\n",
        "RINV.index = EFF.index\n",
        "TLP.index = EFF.index\n",
        "PRF.index = EFF.index\n",
        "DM2.index = EFF.index\n",
        "CPI.index = EFF.index"
      ],
      "metadata": {
        "colab": {
          "base_uri": "https://localhost:8080/"
        },
        "id": "_Oq_YOY0ZGyi",
        "outputId": "9fc2f180-cd59-4a54-e2e9-b35bd2c98fad"
      },
      "execution_count": null,
      "outputs": [
        {
          "output_type": "stream",
          "name": "stderr",
          "text": [
            "<ipython-input-12-205f604c1c5a>:4: FutureWarning: 'Q' is deprecated and will be removed in a future version, please use 'QE' instead.\n",
            "  EFF  = EFF.resample('Q').mean()\n"
          ]
        }
      ]
    },
    {
      "cell_type": "code",
      "source": [],
      "metadata": {
        "id": "_OjnLpywMBgO"
      },
      "execution_count": null,
      "outputs": []
    },
    {
      "cell_type": "markdown",
      "source": [
        "Importación de base de datos en archivos .xlsx o .csv"
      ],
      "metadata": {
        "id": "BBNk08AUaf3D"
      }
    },
    {
      "cell_type": "code",
      "source": [
        "file_path = 'CPALTT01USQ661S.xlsx'\n",
        "\n",
        "# Leer el archivo Excel\n",
        "df = pd.read_excel(file_path, sheet_name='Quarterly')\n",
        "\n",
        "# Mostrar las primeras filas del DataFrame\n",
        "print(df.head())"
      ],
      "metadata": {
        "colab": {
          "base_uri": "https://localhost:8080/",
          "height": 375
        },
        "id": "n_RNDP0yafek",
        "outputId": "350a7ba6-e7cf-4e9e-f39c-6e4845a99343"
      },
      "execution_count": null,
      "outputs": [
        {
          "output_type": "error",
          "ename": "FileNotFoundError",
          "evalue": "[Errno 2] No such file or directory: 'CPALTT01USQ661S.xlsx'",
          "traceback": [
            "\u001b[0;31m---------------------------------------------------------------------------\u001b[0m",
            "\u001b[0;31mFileNotFoundError\u001b[0m                         Traceback (most recent call last)",
            "\u001b[0;32m<ipython-input-39-dd1cc0aa9c0b>\u001b[0m in \u001b[0;36m<cell line: 0>\u001b[0;34m()\u001b[0m\n\u001b[1;32m      2\u001b[0m \u001b[0;34m\u001b[0m\u001b[0m\n\u001b[1;32m      3\u001b[0m \u001b[0;31m# Leer el archivo Excel\u001b[0m\u001b[0;34m\u001b[0m\u001b[0;34m\u001b[0m\u001b[0m\n\u001b[0;32m----> 4\u001b[0;31m \u001b[0mdf\u001b[0m \u001b[0;34m=\u001b[0m \u001b[0mpd\u001b[0m\u001b[0;34m.\u001b[0m\u001b[0mread_excel\u001b[0m\u001b[0;34m(\u001b[0m\u001b[0mfile_path\u001b[0m\u001b[0;34m,\u001b[0m \u001b[0msheet_name\u001b[0m\u001b[0;34m=\u001b[0m\u001b[0;34m'Quarterly'\u001b[0m\u001b[0;34m)\u001b[0m\u001b[0;34m\u001b[0m\u001b[0;34m\u001b[0m\u001b[0m\n\u001b[0m\u001b[1;32m      5\u001b[0m \u001b[0;34m\u001b[0m\u001b[0m\n\u001b[1;32m      6\u001b[0m \u001b[0;31m# Mostrar las primeras filas del DataFrame\u001b[0m\u001b[0;34m\u001b[0m\u001b[0;34m\u001b[0m\u001b[0m\n",
            "\u001b[0;32m/usr/local/lib/python3.11/dist-packages/pandas/io/excel/_base.py\u001b[0m in \u001b[0;36mread_excel\u001b[0;34m(io, sheet_name, header, names, index_col, usecols, dtype, engine, converters, true_values, false_values, skiprows, nrows, na_values, keep_default_na, na_filter, verbose, parse_dates, date_parser, date_format, thousands, decimal, comment, skipfooter, storage_options, dtype_backend, engine_kwargs)\u001b[0m\n\u001b[1;32m    493\u001b[0m     \u001b[0;32mif\u001b[0m \u001b[0;32mnot\u001b[0m \u001b[0misinstance\u001b[0m\u001b[0;34m(\u001b[0m\u001b[0mio\u001b[0m\u001b[0;34m,\u001b[0m \u001b[0mExcelFile\u001b[0m\u001b[0;34m)\u001b[0m\u001b[0;34m:\u001b[0m\u001b[0;34m\u001b[0m\u001b[0;34m\u001b[0m\u001b[0m\n\u001b[1;32m    494\u001b[0m         \u001b[0mshould_close\u001b[0m \u001b[0;34m=\u001b[0m \u001b[0;32mTrue\u001b[0m\u001b[0;34m\u001b[0m\u001b[0;34m\u001b[0m\u001b[0m\n\u001b[0;32m--> 495\u001b[0;31m         io = ExcelFile(\n\u001b[0m\u001b[1;32m    496\u001b[0m             \u001b[0mio\u001b[0m\u001b[0;34m,\u001b[0m\u001b[0;34m\u001b[0m\u001b[0;34m\u001b[0m\u001b[0m\n\u001b[1;32m    497\u001b[0m             \u001b[0mstorage_options\u001b[0m\u001b[0;34m=\u001b[0m\u001b[0mstorage_options\u001b[0m\u001b[0;34m,\u001b[0m\u001b[0;34m\u001b[0m\u001b[0;34m\u001b[0m\u001b[0m\n",
            "\u001b[0;32m/usr/local/lib/python3.11/dist-packages/pandas/io/excel/_base.py\u001b[0m in \u001b[0;36m__init__\u001b[0;34m(self, path_or_buffer, engine, storage_options, engine_kwargs)\u001b[0m\n\u001b[1;32m   1548\u001b[0m                 \u001b[0mext\u001b[0m \u001b[0;34m=\u001b[0m \u001b[0;34m\"xls\"\u001b[0m\u001b[0;34m\u001b[0m\u001b[0;34m\u001b[0m\u001b[0m\n\u001b[1;32m   1549\u001b[0m             \u001b[0;32melse\u001b[0m\u001b[0;34m:\u001b[0m\u001b[0;34m\u001b[0m\u001b[0;34m\u001b[0m\u001b[0m\n\u001b[0;32m-> 1550\u001b[0;31m                 ext = inspect_excel_format(\n\u001b[0m\u001b[1;32m   1551\u001b[0m                     \u001b[0mcontent_or_path\u001b[0m\u001b[0;34m=\u001b[0m\u001b[0mpath_or_buffer\u001b[0m\u001b[0;34m,\u001b[0m \u001b[0mstorage_options\u001b[0m\u001b[0;34m=\u001b[0m\u001b[0mstorage_options\u001b[0m\u001b[0;34m\u001b[0m\u001b[0;34m\u001b[0m\u001b[0m\n\u001b[1;32m   1552\u001b[0m                 )\n",
            "\u001b[0;32m/usr/local/lib/python3.11/dist-packages/pandas/io/excel/_base.py\u001b[0m in \u001b[0;36minspect_excel_format\u001b[0;34m(content_or_path, storage_options)\u001b[0m\n\u001b[1;32m   1400\u001b[0m         \u001b[0mcontent_or_path\u001b[0m \u001b[0;34m=\u001b[0m \u001b[0mBytesIO\u001b[0m\u001b[0;34m(\u001b[0m\u001b[0mcontent_or_path\u001b[0m\u001b[0;34m)\u001b[0m\u001b[0;34m\u001b[0m\u001b[0;34m\u001b[0m\u001b[0m\n\u001b[1;32m   1401\u001b[0m \u001b[0;34m\u001b[0m\u001b[0m\n\u001b[0;32m-> 1402\u001b[0;31m     with get_handle(\n\u001b[0m\u001b[1;32m   1403\u001b[0m         \u001b[0mcontent_or_path\u001b[0m\u001b[0;34m,\u001b[0m \u001b[0;34m\"rb\"\u001b[0m\u001b[0;34m,\u001b[0m \u001b[0mstorage_options\u001b[0m\u001b[0;34m=\u001b[0m\u001b[0mstorage_options\u001b[0m\u001b[0;34m,\u001b[0m \u001b[0mis_text\u001b[0m\u001b[0;34m=\u001b[0m\u001b[0;32mFalse\u001b[0m\u001b[0;34m\u001b[0m\u001b[0;34m\u001b[0m\u001b[0m\n\u001b[1;32m   1404\u001b[0m     ) as handle:\n",
            "\u001b[0;32m/usr/local/lib/python3.11/dist-packages/pandas/io/common.py\u001b[0m in \u001b[0;36mget_handle\u001b[0;34m(path_or_buf, mode, encoding, compression, memory_map, is_text, errors, storage_options)\u001b[0m\n\u001b[1;32m    880\u001b[0m         \u001b[0;32melse\u001b[0m\u001b[0;34m:\u001b[0m\u001b[0;34m\u001b[0m\u001b[0;34m\u001b[0m\u001b[0m\n\u001b[1;32m    881\u001b[0m             \u001b[0;31m# Binary mode\u001b[0m\u001b[0;34m\u001b[0m\u001b[0;34m\u001b[0m\u001b[0m\n\u001b[0;32m--> 882\u001b[0;31m             \u001b[0mhandle\u001b[0m \u001b[0;34m=\u001b[0m \u001b[0mopen\u001b[0m\u001b[0;34m(\u001b[0m\u001b[0mhandle\u001b[0m\u001b[0;34m,\u001b[0m \u001b[0mioargs\u001b[0m\u001b[0;34m.\u001b[0m\u001b[0mmode\u001b[0m\u001b[0;34m)\u001b[0m\u001b[0;34m\u001b[0m\u001b[0;34m\u001b[0m\u001b[0m\n\u001b[0m\u001b[1;32m    883\u001b[0m         \u001b[0mhandles\u001b[0m\u001b[0;34m.\u001b[0m\u001b[0mappend\u001b[0m\u001b[0;34m(\u001b[0m\u001b[0mhandle\u001b[0m\u001b[0;34m)\u001b[0m\u001b[0;34m\u001b[0m\u001b[0;34m\u001b[0m\u001b[0m\n\u001b[1;32m    884\u001b[0m \u001b[0;34m\u001b[0m\u001b[0m\n",
            "\u001b[0;31mFileNotFoundError\u001b[0m: [Errno 2] No such file or directory: 'CPALTT01USQ661S.xlsx'"
          ]
        }
      ]
    },
    {
      "cell_type": "markdown",
      "source": [
        "Tranformación de datos y creación de la base"
      ],
      "metadata": {
        "id": "Fh6MvPDzmIn9"
      }
    },
    {
      "cell_type": "code",
      "source": [
        "yy = np.log(RGDP)\n",
        "cc =  np.log(CONS)\n",
        "dd = np.log(DEF)\n",
        "ii = np.log(RINV)\n",
        "lp = np.log(TLP)\n",
        "rr = EFF\n",
        "rp = pd.DataFrame(np.log(PRF.values/CPI.values))\n",
        "rp.index = index\n",
        "dm = np.log(DM2)\n",
        "\n",
        "DF = pd.concat([ yy, cc,   dd,   ii, lp, rr,     rp,    dm],axis=1)\n",
        "DF.columns =   ['y','c','def','inv','lp','r', 'prof', 'dm2']\n",
        "\n",
        "data = DF.values\n",
        "DF.head()"
      ],
      "metadata": {
        "id": "eSSveE16mIZO",
        "colab": {
          "base_uri": "https://localhost:8080/",
          "height": 238
        },
        "outputId": "dcb6b9c7-128b-40bf-fc7c-f5787602835a"
      },
      "execution_count": null,
      "outputs": [
        {
          "output_type": "execute_result",
          "data": {
            "text/plain": [
              "                   y         c       def       inv        lp         r  \\\n",
              "DATE                                                                     \n",
              "1965-03-31  8.380711  7.868738  2.800629  5.918360  3.896023  3.977222   \n",
              "1965-06-30  8.393267  7.879707  2.805237  5.938433  3.898518  4.079451   \n",
              "1965-09-30  8.415255  7.896743  2.809101  5.971313  3.913871  4.077500   \n",
              "1965-12-31  8.438033  7.924468  2.815947  6.006676  3.930256  4.170761   \n",
              "1966-03-31  8.462080  7.939123  2.822331  6.054825  3.949493  4.559000   \n",
              "\n",
              "                prof       dm2  \n",
              "DATE                            \n",
              "1965-03-31  1.345570  0.019790  \n",
              "1965-06-30  1.375513  0.016515  \n",
              "1965-09-30  1.390331  0.019316  \n",
              "1965-12-31  1.440672  0.021659  \n",
              "1966-03-31  1.458244  0.019050  "
            ],
            "text/html": [
              "\n",
              "  <div id=\"df-a3f689d0-e004-4457-92dc-8bd2a03e3d1f\" class=\"colab-df-container\">\n",
              "    <div>\n",
              "<style scoped>\n",
              "    .dataframe tbody tr th:only-of-type {\n",
              "        vertical-align: middle;\n",
              "    }\n",
              "\n",
              "    .dataframe tbody tr th {\n",
              "        vertical-align: top;\n",
              "    }\n",
              "\n",
              "    .dataframe thead th {\n",
              "        text-align: right;\n",
              "    }\n",
              "</style>\n",
              "<table border=\"1\" class=\"dataframe\">\n",
              "  <thead>\n",
              "    <tr style=\"text-align: right;\">\n",
              "      <th></th>\n",
              "      <th>y</th>\n",
              "      <th>c</th>\n",
              "      <th>def</th>\n",
              "      <th>inv</th>\n",
              "      <th>lp</th>\n",
              "      <th>r</th>\n",
              "      <th>prof</th>\n",
              "      <th>dm2</th>\n",
              "    </tr>\n",
              "    <tr>\n",
              "      <th>DATE</th>\n",
              "      <th></th>\n",
              "      <th></th>\n",
              "      <th></th>\n",
              "      <th></th>\n",
              "      <th></th>\n",
              "      <th></th>\n",
              "      <th></th>\n",
              "      <th></th>\n",
              "    </tr>\n",
              "  </thead>\n",
              "  <tbody>\n",
              "    <tr>\n",
              "      <th>1965-03-31</th>\n",
              "      <td>8.380711</td>\n",
              "      <td>7.868738</td>\n",
              "      <td>2.800629</td>\n",
              "      <td>5.918360</td>\n",
              "      <td>3.896023</td>\n",
              "      <td>3.977222</td>\n",
              "      <td>1.345570</td>\n",
              "      <td>0.019790</td>\n",
              "    </tr>\n",
              "    <tr>\n",
              "      <th>1965-06-30</th>\n",
              "      <td>8.393267</td>\n",
              "      <td>7.879707</td>\n",
              "      <td>2.805237</td>\n",
              "      <td>5.938433</td>\n",
              "      <td>3.898518</td>\n",
              "      <td>4.079451</td>\n",
              "      <td>1.375513</td>\n",
              "      <td>0.016515</td>\n",
              "    </tr>\n",
              "    <tr>\n",
              "      <th>1965-09-30</th>\n",
              "      <td>8.415255</td>\n",
              "      <td>7.896743</td>\n",
              "      <td>2.809101</td>\n",
              "      <td>5.971313</td>\n",
              "      <td>3.913871</td>\n",
              "      <td>4.077500</td>\n",
              "      <td>1.390331</td>\n",
              "      <td>0.019316</td>\n",
              "    </tr>\n",
              "    <tr>\n",
              "      <th>1965-12-31</th>\n",
              "      <td>8.438033</td>\n",
              "      <td>7.924468</td>\n",
              "      <td>2.815947</td>\n",
              "      <td>6.006676</td>\n",
              "      <td>3.930256</td>\n",
              "      <td>4.170761</td>\n",
              "      <td>1.440672</td>\n",
              "      <td>0.021659</td>\n",
              "    </tr>\n",
              "    <tr>\n",
              "      <th>1966-03-31</th>\n",
              "      <td>8.462080</td>\n",
              "      <td>7.939123</td>\n",
              "      <td>2.822331</td>\n",
              "      <td>6.054825</td>\n",
              "      <td>3.949493</td>\n",
              "      <td>4.559000</td>\n",
              "      <td>1.458244</td>\n",
              "      <td>0.019050</td>\n",
              "    </tr>\n",
              "  </tbody>\n",
              "</table>\n",
              "</div>\n",
              "    <div class=\"colab-df-buttons\">\n",
              "\n",
              "  <div class=\"colab-df-container\">\n",
              "    <button class=\"colab-df-convert\" onclick=\"convertToInteractive('df-a3f689d0-e004-4457-92dc-8bd2a03e3d1f')\"\n",
              "            title=\"Convert this dataframe to an interactive table.\"\n",
              "            style=\"display:none;\">\n",
              "\n",
              "  <svg xmlns=\"http://www.w3.org/2000/svg\" height=\"24px\" viewBox=\"0 -960 960 960\">\n",
              "    <path d=\"M120-120v-720h720v720H120Zm60-500h600v-160H180v160Zm220 220h160v-160H400v160Zm0 220h160v-160H400v160ZM180-400h160v-160H180v160Zm440 0h160v-160H620v160ZM180-180h160v-160H180v160Zm440 0h160v-160H620v160Z\"/>\n",
              "  </svg>\n",
              "    </button>\n",
              "\n",
              "  <style>\n",
              "    .colab-df-container {\n",
              "      display:flex;\n",
              "      gap: 12px;\n",
              "    }\n",
              "\n",
              "    .colab-df-convert {\n",
              "      background-color: #E8F0FE;\n",
              "      border: none;\n",
              "      border-radius: 50%;\n",
              "      cursor: pointer;\n",
              "      display: none;\n",
              "      fill: #1967D2;\n",
              "      height: 32px;\n",
              "      padding: 0 0 0 0;\n",
              "      width: 32px;\n",
              "    }\n",
              "\n",
              "    .colab-df-convert:hover {\n",
              "      background-color: #E2EBFA;\n",
              "      box-shadow: 0px 1px 2px rgba(60, 64, 67, 0.3), 0px 1px 3px 1px rgba(60, 64, 67, 0.15);\n",
              "      fill: #174EA6;\n",
              "    }\n",
              "\n",
              "    .colab-df-buttons div {\n",
              "      margin-bottom: 4px;\n",
              "    }\n",
              "\n",
              "    [theme=dark] .colab-df-convert {\n",
              "      background-color: #3B4455;\n",
              "      fill: #D2E3FC;\n",
              "    }\n",
              "\n",
              "    [theme=dark] .colab-df-convert:hover {\n",
              "      background-color: #434B5C;\n",
              "      box-shadow: 0px 1px 3px 1px rgba(0, 0, 0, 0.15);\n",
              "      filter: drop-shadow(0px 1px 2px rgba(0, 0, 0, 0.3));\n",
              "      fill: #FFFFFF;\n",
              "    }\n",
              "  </style>\n",
              "\n",
              "    <script>\n",
              "      const buttonEl =\n",
              "        document.querySelector('#df-a3f689d0-e004-4457-92dc-8bd2a03e3d1f button.colab-df-convert');\n",
              "      buttonEl.style.display =\n",
              "        google.colab.kernel.accessAllowed ? 'block' : 'none';\n",
              "\n",
              "      async function convertToInteractive(key) {\n",
              "        const element = document.querySelector('#df-a3f689d0-e004-4457-92dc-8bd2a03e3d1f');\n",
              "        const dataTable =\n",
              "          await google.colab.kernel.invokeFunction('convertToInteractive',\n",
              "                                                    [key], {});\n",
              "        if (!dataTable) return;\n",
              "\n",
              "        const docLinkHtml = 'Like what you see? Visit the ' +\n",
              "          '<a target=\"_blank\" href=https://colab.research.google.com/notebooks/data_table.ipynb>data table notebook</a>'\n",
              "          + ' to learn more about interactive tables.';\n",
              "        element.innerHTML = '';\n",
              "        dataTable['output_type'] = 'display_data';\n",
              "        await google.colab.output.renderOutput(dataTable, element);\n",
              "        const docLink = document.createElement('div');\n",
              "        docLink.innerHTML = docLinkHtml;\n",
              "        element.appendChild(docLink);\n",
              "      }\n",
              "    </script>\n",
              "  </div>\n",
              "\n",
              "\n",
              "<div id=\"df-d8bf69d1-00e6-4e13-9555-784a128bb7d6\">\n",
              "  <button class=\"colab-df-quickchart\" onclick=\"quickchart('df-d8bf69d1-00e6-4e13-9555-784a128bb7d6')\"\n",
              "            title=\"Suggest charts\"\n",
              "            style=\"display:none;\">\n",
              "\n",
              "<svg xmlns=\"http://www.w3.org/2000/svg\" height=\"24px\"viewBox=\"0 0 24 24\"\n",
              "     width=\"24px\">\n",
              "    <g>\n",
              "        <path d=\"M19 3H5c-1.1 0-2 .9-2 2v14c0 1.1.9 2 2 2h14c1.1 0 2-.9 2-2V5c0-1.1-.9-2-2-2zM9 17H7v-7h2v7zm4 0h-2V7h2v10zm4 0h-2v-4h2v4z\"/>\n",
              "    </g>\n",
              "</svg>\n",
              "  </button>\n",
              "\n",
              "<style>\n",
              "  .colab-df-quickchart {\n",
              "      --bg-color: #E8F0FE;\n",
              "      --fill-color: #1967D2;\n",
              "      --hover-bg-color: #E2EBFA;\n",
              "      --hover-fill-color: #174EA6;\n",
              "      --disabled-fill-color: #AAA;\n",
              "      --disabled-bg-color: #DDD;\n",
              "  }\n",
              "\n",
              "  [theme=dark] .colab-df-quickchart {\n",
              "      --bg-color: #3B4455;\n",
              "      --fill-color: #D2E3FC;\n",
              "      --hover-bg-color: #434B5C;\n",
              "      --hover-fill-color: #FFFFFF;\n",
              "      --disabled-bg-color: #3B4455;\n",
              "      --disabled-fill-color: #666;\n",
              "  }\n",
              "\n",
              "  .colab-df-quickchart {\n",
              "    background-color: var(--bg-color);\n",
              "    border: none;\n",
              "    border-radius: 50%;\n",
              "    cursor: pointer;\n",
              "    display: none;\n",
              "    fill: var(--fill-color);\n",
              "    height: 32px;\n",
              "    padding: 0;\n",
              "    width: 32px;\n",
              "  }\n",
              "\n",
              "  .colab-df-quickchart:hover {\n",
              "    background-color: var(--hover-bg-color);\n",
              "    box-shadow: 0 1px 2px rgba(60, 64, 67, 0.3), 0 1px 3px 1px rgba(60, 64, 67, 0.15);\n",
              "    fill: var(--button-hover-fill-color);\n",
              "  }\n",
              "\n",
              "  .colab-df-quickchart-complete:disabled,\n",
              "  .colab-df-quickchart-complete:disabled:hover {\n",
              "    background-color: var(--disabled-bg-color);\n",
              "    fill: var(--disabled-fill-color);\n",
              "    box-shadow: none;\n",
              "  }\n",
              "\n",
              "  .colab-df-spinner {\n",
              "    border: 2px solid var(--fill-color);\n",
              "    border-color: transparent;\n",
              "    border-bottom-color: var(--fill-color);\n",
              "    animation:\n",
              "      spin 1s steps(1) infinite;\n",
              "  }\n",
              "\n",
              "  @keyframes spin {\n",
              "    0% {\n",
              "      border-color: transparent;\n",
              "      border-bottom-color: var(--fill-color);\n",
              "      border-left-color: var(--fill-color);\n",
              "    }\n",
              "    20% {\n",
              "      border-color: transparent;\n",
              "      border-left-color: var(--fill-color);\n",
              "      border-top-color: var(--fill-color);\n",
              "    }\n",
              "    30% {\n",
              "      border-color: transparent;\n",
              "      border-left-color: var(--fill-color);\n",
              "      border-top-color: var(--fill-color);\n",
              "      border-right-color: var(--fill-color);\n",
              "    }\n",
              "    40% {\n",
              "      border-color: transparent;\n",
              "      border-right-color: var(--fill-color);\n",
              "      border-top-color: var(--fill-color);\n",
              "    }\n",
              "    60% {\n",
              "      border-color: transparent;\n",
              "      border-right-color: var(--fill-color);\n",
              "    }\n",
              "    80% {\n",
              "      border-color: transparent;\n",
              "      border-right-color: var(--fill-color);\n",
              "      border-bottom-color: var(--fill-color);\n",
              "    }\n",
              "    90% {\n",
              "      border-color: transparent;\n",
              "      border-bottom-color: var(--fill-color);\n",
              "    }\n",
              "  }\n",
              "</style>\n",
              "\n",
              "  <script>\n",
              "    async function quickchart(key) {\n",
              "      const quickchartButtonEl =\n",
              "        document.querySelector('#' + key + ' button');\n",
              "      quickchartButtonEl.disabled = true;  // To prevent multiple clicks.\n",
              "      quickchartButtonEl.classList.add('colab-df-spinner');\n",
              "      try {\n",
              "        const charts = await google.colab.kernel.invokeFunction(\n",
              "            'suggestCharts', [key], {});\n",
              "      } catch (error) {\n",
              "        console.error('Error during call to suggestCharts:', error);\n",
              "      }\n",
              "      quickchartButtonEl.classList.remove('colab-df-spinner');\n",
              "      quickchartButtonEl.classList.add('colab-df-quickchart-complete');\n",
              "    }\n",
              "    (() => {\n",
              "      let quickchartButtonEl =\n",
              "        document.querySelector('#df-d8bf69d1-00e6-4e13-9555-784a128bb7d6 button');\n",
              "      quickchartButtonEl.style.display =\n",
              "        google.colab.kernel.accessAllowed ? 'block' : 'none';\n",
              "    })();\n",
              "  </script>\n",
              "</div>\n",
              "\n",
              "    </div>\n",
              "  </div>\n"
            ],
            "application/vnd.google.colaboratory.intrinsic+json": {
              "type": "dataframe",
              "variable_name": "DF",
              "summary": "{\n  \"name\": \"DF\",\n  \"rows\": 160,\n  \"fields\": [\n    {\n      \"column\": \"DATE\",\n      \"properties\": {\n        \"dtype\": \"date\",\n        \"min\": \"1965-03-31 00:00:00\",\n        \"max\": \"2004-12-31 00:00:00\",\n        \"num_unique_values\": 160,\n        \"samples\": [\n          \"1991-06-30 00:00:00\",\n          \"1992-03-31 00:00:00\",\n          \"2000-06-30 00:00:00\"\n        ],\n        \"semantic_type\": \"\",\n        \"description\": \"\"\n      }\n    },\n    {\n      \"column\": \"y\",\n      \"properties\": {\n        \"dtype\": \"number\",\n        \"std\": 0.36031359918544265,\n        \"min\": 8.380711393480444,\n        \"max\": 9.659559492037449,\n        \"num_unique_values\": 160,\n        \"samples\": [\n          9.213287026322933,\n          9.233708693445871,\n          9.556119734052743\n        ],\n        \"semantic_type\": \"\",\n        \"description\": \"\"\n      }\n    },\n    {\n      \"column\": \"c\",\n      \"properties\": {\n        \"dtype\": \"number\",\n        \"std\": 0.38647772440623157,\n        \"min\": 7.86873826624554,\n        \"max\": 9.256659294665972,\n        \"num_unique_values\": 160,\n        \"samples\": [\n          8.76119026861961,\n          8.784213522639122,\n          9.118680242625443\n        ],\n        \"semantic_type\": \"\",\n        \"description\": \"\"\n      }\n    },\n    {\n      \"column\": \"def\",\n      \"properties\": {\n        \"dtype\": \"number\",\n        \"std\": 0.5108330982652496,\n        \"min\": 2.8006293823953032,\n        \"max\": 4.3812638438228975,\n        \"num_unique_values\": 160,\n        \"samples\": [\n          4.112315447543337,\n          4.129727793446077,\n          4.283862385886651\n        ],\n        \"semantic_type\": \"\",\n        \"description\": \"\"\n      }\n    },\n    {\n      \"column\": \"inv\",\n      \"properties\": {\n        \"dtype\": \"number\",\n        \"std\": 0.5926684993937678,\n        \"min\": 5.918359706360923,\n        \"max\": 8.056086094076315,\n        \"num_unique_values\": 160,\n        \"samples\": [\n          7.103536278032602,\n          7.133164629039223,\n          7.858427328060941\n        ],\n        \"semantic_type\": \"\",\n        \"description\": \"\"\n      }\n    },\n    {\n      \"column\": \"lp\",\n      \"properties\": {\n        \"dtype\": \"number\",\n        \"std\": 0.15719978693562314,\n        \"min\": 3.896022896798536,\n        \"max\": 4.484191749608187,\n        \"num_unique_values\": 160,\n        \"samples\": [\n          4.211383008248074,\n          4.229861424873142,\n          4.403012312080612\n        ],\n        \"semantic_type\": \"\",\n        \"description\": \"\"\n      }\n    },\n    {\n      \"column\": \"r\",\n      \"properties\": {\n        \"dtype\": \"number\",\n        \"std\": 3.3046574834943168,\n        \"min\": 0.9967391304347827,\n        \"max\": 17.786923076923078,\n        \"num_unique_values\": 160,\n        \"samples\": [\n          5.864065934065934,\n          4.024285714285714,\n          6.271978021978022\n        ],\n        \"semantic_type\": \"\",\n        \"description\": \"\"\n      }\n    },\n    {\n      \"column\": \"prof\",\n      \"properties\": {\n        \"dtype\": \"number\",\n        \"std\": 0.30454111735233286,\n        \"min\": 1.1610066808530457,\n        \"max\": 2.5686545020586236,\n        \"num_unique_values\": 160,\n        \"samples\": [\n          1.6724746601118494,\n          1.7293843113891765,\n          2.0454925765798606\n        ],\n        \"semantic_type\": \"\",\n        \"description\": \"\"\n      }\n    },\n    {\n      \"column\": \"dm2\",\n      \"properties\": {\n        \"dtype\": \"number\",\n        \"std\": 0.008831696270976184,\n        \"min\": -0.0030034152269752153,\n        \"max\": 0.05363570655394683,\n        \"num_unique_values\": 160,\n        \"samples\": [\n          0.011252187114981334,\n          0.008481982365298577,\n          0.01667467088781298\n        ],\n        \"semantic_type\": \"\",\n        \"description\": \"\"\n      }\n    }\n  ]\n}"
            }
          },
          "metadata": {},
          "execution_count": 13
        }
      ]
    },
    {
      "cell_type": "markdown",
      "source": [
        "# Llamar liberías"
      ],
      "metadata": {
        "id": "3faAjd81_6pT"
      }
    },
    {
      "cell_type": "code",
      "source": [
        "flag_runlocal  = False    # \"False\" para ejecutar en google colab\n",
        "flag_useserver = True    # \"False\" para ejecutar con conexión a internet via proxy\n",
        "\n",
        "if flag_runlocal:\n",
        "    # ---> Ejecución local\n",
        "    pathBayesInfer = ''\n",
        "    if flag_useserver:\n",
        "        from ConfigProxy import proxy\n",
        "        # Set the proxy with authentication\n",
        "        import os\n",
        "        os.environ['http_proxy'] = proxy\n",
        "        os.environ['https_proxy'] = proxy\n",
        "\n",
        "else:\n",
        "    # ---> Desde github-to-colab\n",
        "    !git clone https://github.com/Alledar/BayesInfer.git\n",
        "    pathBayesInfer = '/content/BayesInfer/'\n",
        "\n",
        "sys.path.append(pathBayesInfer+'02_Libraries')"
      ],
      "metadata": {
        "id": "_Kpt_WkkXg4l"
      },
      "execution_count": null,
      "outputs": []
    },
    {
      "cell_type": "markdown",
      "source": [
        "#Gráficos"
      ],
      "metadata": {
        "id": "xYOoemUO__qt"
      }
    },
    {
      "cell_type": "code",
      "source": [
        "#Gráfico de líneas\n",
        "\n",
        "plt.plot(CPI, RGDP)\n",
        "plt.title(\"Consumer Price Index and Real GDP\")\n",
        "plt.xlabel(\"CPI\")\n",
        "plt.ylabel(\"RGDP\")\n",
        "plt.show()"
      ],
      "metadata": {
        "id": "vQHCXiMAXhuq"
      },
      "execution_count": null,
      "outputs": []
    },
    {
      "cell_type": "code",
      "source": [
        "#Gráfico de dispersión\n",
        "plt.scatter(CPI, RGDP)\n",
        "plt.title(\"Consumer Price Index and Real GDP\")\n",
        "plt.show()"
      ],
      "metadata": {
        "id": "XII-_PBNkLr6"
      },
      "execution_count": null,
      "outputs": []
    },
    {
      "cell_type": "code",
      "source": [
        "#Gráficos con pandas: 'line', 'bar', 'barh', 'kde', 'density', 'area', 'hist', 'box', 'pie', 'scatter', 'hexbin'\n",
        "DF.plot(x='c', y='y', kind='scatter')\n",
        "DF.plot(x='c', y='y', kind='line')\n",
        "plt.show()"
      ],
      "metadata": {
        "id": "OLrBPEHOnZYG"
      },
      "execution_count": null,
      "outputs": []
    },
    {
      "cell_type": "code",
      "source": [
        "#Regresión lineal\n",
        "\n",
        "import seaborn as sns\n",
        "\n",
        "# Crear un gráfico de dispersión con regresión lineal\n",
        "sns.regplot(x=\"y\", y=\"lp\", data=DF, scatter_kws={\"color\": \"black\"})\n",
        "plt.show()"
      ],
      "metadata": {
        "id": "2Vjhtr-Vlgrw"
      },
      "execution_count": null,
      "outputs": []
    }
  ]
}